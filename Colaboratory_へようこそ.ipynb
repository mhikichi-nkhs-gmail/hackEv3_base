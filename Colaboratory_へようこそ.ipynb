{
  "nbformat": 4,
  "nbformat_minor": 0,
  "metadata": {
    "colab": {
      "name": "Colaboratory へようこそ",
      "provenance": [],
      "collapsed_sections": [],
      "toc_visible": true,
      "include_colab_link": true
    },
    "kernelspec": {
      "display_name": "Python 3",
      "name": "python3"
    }
  },
  "cells": [
    {
      "cell_type": "markdown",
      "metadata": {
        "id": "view-in-github",
        "colab_type": "text"
      },
      "source": [
        "<a href=\"https://colab.research.google.com/github/nkhsetrobo/hackEv3_base/blob/master/Colaboratory_%E3%81%B8%E3%82%88%E3%81%86%E3%81%93%E3%81%9D.ipynb\" target=\"_parent\"><img src=\"https://colab.research.google.com/assets/colab-badge.svg\" alt=\"Open In Colab\"/></a>"
      ]
    },
    {
      "cell_type": "markdown",
      "metadata": {
        "id": "6ULtRWxypEz5"
      },
      "source": [
        "# デュアルネットワークの作成"
      ]
    },
    {
      "cell_type": "code",
      "metadata": {
        "colab": {
          "base_uri": "https://localhost:8080/",
          "height": 137
        },
        "id": "3f4QbMrKpDS7",
        "outputId": "94d4e40b-b9fd-41a0-c0ab-aeca27378d63"
      },
      "source": [
        "# パッケージのインポート\n",
        "from tensorflow.keras.layers import Activation, Add, BatchNormalization, Conv2D,\n",
        "Dense, GlobalAveragePooling2D, Input\n",
        "from tensorflow.keras.model import Modle\n",
        "from tensorflow.keras.regularizers import 12\n",
        "from tensorflow.keras import backend as k\n",
        "import os"
      ],
      "execution_count": 11,
      "outputs": [
        {
          "output_type": "error",
          "ename": "SyntaxError",
          "evalue": "ignored",
          "traceback": [
            "\u001b[0;36m  File \u001b[0;32m\"<ipython-input-11-a86ede17bde1>\"\u001b[0;36m, line \u001b[0;32m5\u001b[0m\n\u001b[0;31m    from tensorflow.keras.regularizers import 12\u001b[0m\n\u001b[0m                                               ^\u001b[0m\n\u001b[0;31mSyntaxError\u001b[0m\u001b[0;31m:\u001b[0m invalid syntax\n"
          ]
        }
      ]
    },
    {
      "cell_type": "code",
      "metadata": {
        "id": "VnaP-8vXqWc9"
      },
      "source": [
        "# パラメータの準備\n",
        "DN_FILTERS = 128\n",
        "DN_RESIDUAL_NUM = 16\n",
        "DN_INPUT_SHARE = (3, 3, 2)\n",
        "DN_OUTPUT_SIZE = 9"
      ],
      "execution_count": 2,
      "outputs": []
    },
    {
      "cell_type": "code",
      "metadata": {
        "id": "oCBA-WF-qxep"
      },
      "source": [
        "# 畳み込み層の作成\n",
        "def conv(filters):\n",
        "  return Conv2D(filters, 3, padding='same', use_bias=False,\n",
        "                kernel_initializer='he_normal', kernel_regularizer=12(0.0005))"
      ],
      "execution_count": 3,
      "outputs": []
    },
    {
      "cell_type": "code",
      "metadata": {
        "id": "SdviAiI4rZVW"
      },
      "source": [
        "#　残数ブロックの作成\n",
        "def residual_block():\n",
        "  def f(x):\n",
        "    sc = x\n",
        "    x = conv(DN_FILTERS)(x)\n",
        "    x = BatchNormalization()(x)\n",
        "    x = Activation('relu')(x)\n",
        "    x = conv(DN_FILTERS)(x)\n",
        "    x = BatchNormalization()(x)\n",
        "    x = Add()([x, sc])\n",
        "    x = Activation('relu')(x)\n",
        "    return x\n",
        "  return f"
      ],
      "execution_count": 4,
      "outputs": []
    },
    {
      "cell_type": "code",
      "metadata": {
        "colab": {
          "base_uri": "https://localhost:8080/",
          "height": 227
        },
        "id": "qi2xOdVOs0Ve",
        "outputId": "798a7eaf-d531-4238-908a-f7e4b93081a3"
      },
      "source": [
        "# デュアルネットワークの作成\n",
        "def dual_network():\n",
        "  # モデル作成済みの場合は無処理\n",
        "  if os.path.exists('./model/best.h5'):\n",
        "    return\n",
        "\n",
        "  #入力層\n",
        "  input = Input(shape=DN_INPUT_SHARE)\n",
        "\n",
        "  #畳み込み層\n",
        "  x = conv(DN_FILTERS)(input)\n",
        "  x = BatchNormalization()(x)\n",
        "  x = Activation('relu')(x)\n",
        "\n",
        "  #残数ブロック×16\n",
        "  for i in range(DN_RESIDUAL_NUM):\n",
        "    x = residual_block()(x)\n",
        "\n",
        "  #プーリング層\n",
        "  x = GlobalAveragePooling2D()(x)\n",
        "\n",
        "  #ポリシー出力\n",
        "  p = Dense(DN_OUTPUT_SIZE, kernel_regularizer=12(0.0005),\n",
        "              activation='softmax', name='pi')(x)\n",
        "  \n",
        "  #バリュー出力\n",
        "  v = Dense(1, kernel_regularizer=12(0.0005))(x)\n",
        "  v = Activation('tanh', name='V')(v)\n",
        "\n",
        "  #モデルの保存\n",
        "  os.makedirs('./model/', exist_ok=True)\n",
        "  model.save('./model/best.h5')\n",
        "\n",
        "# モデルの破棄\n",
        "K.clear_session()\n",
        "del model"
      ],
      "execution_count": 12,
      "outputs": [
        {
          "output_type": "error",
          "ename": "NameError",
          "evalue": "ignored",
          "traceback": [
            "\u001b[0;31m---------------------------------------------------------------------------\u001b[0m",
            "\u001b[0;31mNameError\u001b[0m                                 Traceback (most recent call last)",
            "\u001b[0;32m<ipython-input-12-7c1ec86757a0>\u001b[0m in \u001b[0;36m<module>\u001b[0;34m()\u001b[0m\n\u001b[1;32m     33\u001b[0m \u001b[0;34m\u001b[0m\u001b[0m\n\u001b[1;32m     34\u001b[0m \u001b[0;31m# モデルの破棄\u001b[0m\u001b[0;34m\u001b[0m\u001b[0;34m\u001b[0m\u001b[0;34m\u001b[0m\u001b[0m\n\u001b[0;32m---> 35\u001b[0;31m \u001b[0mK\u001b[0m\u001b[0;34m.\u001b[0m\u001b[0mclear_session\u001b[0m\u001b[0;34m(\u001b[0m\u001b[0;34m)\u001b[0m\u001b[0;34m\u001b[0m\u001b[0;34m\u001b[0m\u001b[0m\n\u001b[0m\u001b[1;32m     36\u001b[0m \u001b[0;32mdel\u001b[0m \u001b[0mmodel\u001b[0m\u001b[0;34m\u001b[0m\u001b[0;34m\u001b[0m\u001b[0m\n",
            "\u001b[0;31mNameError\u001b[0m: name 'K' is not defined"
          ]
        }
      ]
    },
    {
      "cell_type": "markdown",
      "metadata": {
        "id": "p0_iclUO3_qJ"
      },
      "source": [
        "# モンテカルロ木探索の作成"
      ]
    },
    {
      "cell_type": "code",
      "metadata": {
        "colab": {
          "base_uri": "https://localhost:8080/",
          "height": 389
        },
        "id": "HK5EM60-6YDJ",
        "outputId": "62ca5388-5a5d-405a-cc01-c46f920fef4a"
      },
      "source": [
        "# パッケージのインポート\n",
        "from game import State\n",
        "from dual_network import DN_INPUT_SHARE\n",
        "from math import sqrt\n",
        "from tensorflow.keras.models import load_model\n",
        "from pathlib import Path\n",
        "import numpy as np"
      ],
      "execution_count": 14,
      "outputs": [
        {
          "output_type": "error",
          "ename": "ModuleNotFoundError",
          "evalue": "ignored",
          "traceback": [
            "\u001b[0;31m---------------------------------------------------------------------------\u001b[0m",
            "\u001b[0;31mModuleNotFoundError\u001b[0m                       Traceback (most recent call last)",
            "\u001b[0;32m<ipython-input-14-62ee1f01ba8e>\u001b[0m in \u001b[0;36m<module>\u001b[0;34m()\u001b[0m\n\u001b[1;32m      1\u001b[0m \u001b[0;31m# パッケージのインポート\u001b[0m\u001b[0;34m\u001b[0m\u001b[0;34m\u001b[0m\u001b[0;34m\u001b[0m\u001b[0m\n\u001b[0;32m----> 2\u001b[0;31m \u001b[0;32mfrom\u001b[0m \u001b[0mgame\u001b[0m \u001b[0;32mimport\u001b[0m \u001b[0mState\u001b[0m\u001b[0;34m\u001b[0m\u001b[0;34m\u001b[0m\u001b[0m\n\u001b[0m\u001b[1;32m      3\u001b[0m \u001b[0;32mfrom\u001b[0m \u001b[0mdual_network\u001b[0m \u001b[0;32mimport\u001b[0m \u001b[0mDN_INPUT_SHARE\u001b[0m\u001b[0;34m\u001b[0m\u001b[0;34m\u001b[0m\u001b[0m\n\u001b[1;32m      4\u001b[0m \u001b[0;32mfrom\u001b[0m \u001b[0mmath\u001b[0m \u001b[0;32mimport\u001b[0m \u001b[0msqrt\u001b[0m\u001b[0;34m\u001b[0m\u001b[0;34m\u001b[0m\u001b[0m\n\u001b[1;32m      5\u001b[0m \u001b[0;32mfrom\u001b[0m \u001b[0mtensorflow\u001b[0m\u001b[0;34m.\u001b[0m\u001b[0mkeras\u001b[0m\u001b[0;34m.\u001b[0m\u001b[0mmodels\u001b[0m \u001b[0;32mimport\u001b[0m \u001b[0mload_model\u001b[0m\u001b[0;34m\u001b[0m\u001b[0;34m\u001b[0m\u001b[0m\n",
            "\u001b[0;31mModuleNotFoundError\u001b[0m: No module named 'game'",
            "",
            "\u001b[0;31m---------------------------------------------------------------------------\u001b[0;32m\nNOTE: If your import is failing due to a missing package, you can\nmanually install dependencies using either !pip or !apt.\n\nTo view examples of installing some common dependencies, click the\n\"Open Examples\" button below.\n\u001b[0;31m---------------------------------------------------------------------------\u001b[0m\n"
          ]
        }
      ]
    },
    {
      "cell_type": "code",
      "metadata": {
        "id": "apGV_qhY7Dh9"
      },
      "source": [
        "# パラメータの準備\n",
        "PV_EVALUATE_COUNT = 50"
      ],
      "execution_count": 15,
      "outputs": []
    },
    {
      "cell_type": "code",
      "metadata": {
        "id": "k149-NoS-BQ1"
      },
      "source": [
        "# 推論\n",
        "def predict(model, state):\n",
        "  # 推論のための入力データのシェイプの変換\n",
        "  a, b, c = DN_INPUT_SHARE\n",
        "  x = np.array([state.pieces, state.enemy_pieces])\n",
        "  x = x.reshape(c, a, b).transpose(1, 2, 0).reshape(1, a, b, c)\n",
        "\n",
        "  # 推論\n",
        "  y = model.predict(x, batch_size=1)\n",
        "\n",
        "  #方策の取得\n",
        "  policies = y[0][0][list(state.legal_actions())]\n",
        "  policies /= sum(policies) if sum(policies) else 1\n",
        "\n",
        "  # 価値の取得\n",
        "  value = y[1][0][0]\n",
        "  return policies, value"
      ],
      "execution_count": 16,
      "outputs": []
    },
    {
      "cell_type": "code",
      "metadata": {
        "id": "Qkcyt_kDABZX"
      },
      "source": [
        "# ノードのリストを試行回数のリストに変換\n",
        "def nodes_to_scores(nodes):\n",
        "  scores = []\n",
        "  for c in nodes:\n",
        "    scores.apend(c.n)\n",
        "  return scores"
      ],
      "execution_count": 18,
      "outputs": []
    },
    {
      "cell_type": "code",
      "metadata": {
        "colab": {
          "base_uri": "https://localhost:8080/",
          "height": 137
        },
        "id": "JagpYaUaAanu",
        "outputId": "b2fe6e98-9d7d-44a2-8e5d-4a67c91fbb1d"
      },
      "source": [
        "# モンテカルロ木探索のスコアの取得\n",
        "def pv_mcts_scores(model, state, temperature):\n",
        "  # モンテカルロ木探索のノードの定義\n",
        "  class node:\n",
        "\n",
        "  \n",
        "  # 現在の局面のノードを作成\n",
        "  root_node = node(state, 0)\n",
        "\n",
        "  # 複数回の評価を実行\n",
        "  for _ in range(PV_EVALUATE_COUNT):\n",
        "    root_node.evaluate()\n",
        "\n",
        "  # 合法手の確率分布\n",
        "  scores = nodes_to_scores(root_node.child_nodes)\n",
        "  if temperature == 0:\n",
        "    action = np.argmax(scores)\n",
        "    scores = np.zeros(len(scores))\n",
        "    scores[action] = 1\n",
        "  else: # ボルツマン分布でバラつき付加\n",
        "  　scores = boltzman(scores, temperature)\n",
        "  return scores"
      ],
      "execution_count": 19,
      "outputs": [
        {
          "output_type": "error",
          "ename": "IndentationError",
          "evalue": "ignored",
          "traceback": [
            "\u001b[0;36m  File \u001b[0;32m\"<ipython-input-19-0cf5396ae79a>\"\u001b[0;36m, line \u001b[0;32m8\u001b[0m\n\u001b[0;31m    root_node = node(state, 0)\u001b[0m\n\u001b[0m            ^\u001b[0m\n\u001b[0;31mIndentationError\u001b[0m\u001b[0;31m:\u001b[0m expected an indented block\n"
          ]
        }
      ]
    },
    {
      "cell_type": "code",
      "metadata": {
        "id": "F789rTv3DFGk"
      },
      "source": [
        "# ノードの初期化\n",
        "def __init__(self, state, p):\n",
        "  self.state = state \n",
        "  self.p = p\n",
        "  self.w = 0\n",
        "  self.n = 0\n",
        "  self.child_nodes = None"
      ],
      "execution_count": null,
      "outputs": []
    },
    {
      "cell_type": "code",
      "metadata": {
        "id": "maschBTbDgji"
      },
      "source": [
        "# 局面の価値の計算\n",
        "def evaluate(self):\n",
        "  # ゲーム終了時\n",
        "  if self.state.is_done():\n",
        "    # 勝敗結果で価値を取得\n",
        "    value = -1 if self.state.is_lose() else 0\n",
        "\n",
        "    # 累計価値と試行回数の更新\n",
        "    self.w += value\n",
        "    self.n += 1\n",
        "    return value\n",
        "\n",
        "  \n",
        "  # 子ノードが存在しない場合\n",
        "  if not self.child_nodes:\n",
        "    # ニューラルネットワークの推論で方策と価値を取得\n",
        "    policies, value = predict(model, self.state)\n",
        "\n",
        "    # 累計価値と試行回数の更新\n",
        "    self.w += value\n",
        "    self.n += 1\n",
        "\n",
        "    #子ノードの展開\n",
        "    self.child_nodes = []\n",
        "    for action, policy in zip(self.state.legal_action(), policies):\n",
        "      self.child_nodes.append(node(self.state.next(action),policy))\n",
        "    return value\n",
        "\n",
        "  # 子ノードが存在するとき\n",
        "  else:\n",
        "    # アーク評価値が最大の子ノードの評価で価値を取得\n",
        "    value = -self.next_child_node().evaluate()\n",
        "\n",
        "    # 累計価値と試行回数の更新\n",
        "    self.w += value\n",
        "    self.n += 1\n",
        "    return value "
      ],
      "execution_count": 20,
      "outputs": []
    },
    {
      "cell_type": "code",
      "metadata": {
        "id": "frsl3ZDlGM3J"
      },
      "source": [
        "# アーク評価値が最大の子ノードを取得\n",
        "def next_child_node(self):\n",
        "  # アーク評価値の計算\n",
        "  C_PUCT = 1.0\n",
        "  t =sum(nodes_to_scores(self.child_nodes))\n",
        "  pucb_values = []\n",
        "  for child_node in self.child_nodes:\n",
        "    pucb_values.append((-child_node.w / child_node.n if child_node.n else 0.0) +\n",
        "        C_PUCT * child_node.p * sqrt(t) / (1 + child_node.n))\n",
        "    \n",
        "  # アーク評価値が最大の子ノードを返す\n",
        "  return self.child_nodes[np.argmax(pucb_values)]"
      ],
      "execution_count": 21,
      "outputs": []
    },
    {
      "cell_type": "code",
      "metadata": {
        "id": "GoBK628kWQ0l"
      },
      "source": [
        "# モンテカルロ木探索で行動選択\n",
        "def pv_mcts_action(model, temperature=0):\n",
        "  def pv_mcts_action(state):\n",
        "    scores = pv_mcts_scores(model, state, temperature)\n",
        "    return np.random.choice(state/legal_actions(), p=scores)\n",
        "  return pv_mcts_action"
      ],
      "execution_count": 22,
      "outputs": []
    },
    {
      "cell_type": "code",
      "metadata": {
        "id": "SHFY9415W9dO"
      },
      "source": [
        "# ボルツマン分布\n",
        "def boltzman(xs, temperature):\n",
        "  xs = [x ** (1 / temperature) for x in xs]\n",
        "  return [x / sum(xs) for x in xs]"
      ],
      "execution_count": 23,
      "outputs": []
    },
    {
      "cell_type": "code",
      "metadata": {
        "colab": {
          "base_uri": "https://localhost:8080/",
          "height": 245
        },
        "id": "1seQWM0wZj6P",
        "outputId": "4b774e1c-9621-45d5-e631-a98ee96184f1"
      },
      "source": [
        "# 動作確認\n",
        "if __name__== '__main__':\n",
        "  # モデルの読み込み\n",
        "  path = sorted(Path('./model').glob('*.h5'))[-1]\n",
        "  model = load_model(str(path))\n",
        "\n",
        "  # 状態の生成\n",
        "  state = State()\n",
        "\n",
        "  # モンテカルロ木探索で行動取得を行う関数の生成\n",
        "  next_action = pv_mcts_action(model, 1.0)\n",
        "\n",
        "  # ゲーム終了までループ\n",
        "  while True:\n",
        "    # ゲーム終了時\n",
        "    if state.is_done():\n",
        "      break\n",
        "\n",
        "    # 行動の取得\n",
        "    action = next_action(state)\n",
        "\n",
        "    # 次の状態の取得\n",
        "    state = state.next(action)\n",
        "\n",
        "    # 文字列表示\n",
        "    print(state)"
      ],
      "execution_count": 24,
      "outputs": [
        {
          "output_type": "error",
          "ename": "NameError",
          "evalue": "ignored",
          "traceback": [
            "\u001b[0;31m---------------------------------------------------------------------------\u001b[0m",
            "\u001b[0;31mNameError\u001b[0m                                 Traceback (most recent call last)",
            "\u001b[0;32m<ipython-input-24-f126ae2ab491>\u001b[0m in \u001b[0;36m<module>\u001b[0;34m()\u001b[0m\n\u001b[1;32m      2\u001b[0m \u001b[0;32mif\u001b[0m \u001b[0m__name__\u001b[0m\u001b[0;34m==\u001b[0m \u001b[0;34m'__main__'\u001b[0m\u001b[0;34m:\u001b[0m\u001b[0;34m\u001b[0m\u001b[0;34m\u001b[0m\u001b[0m\n\u001b[1;32m      3\u001b[0m   \u001b[0;31m# モデルの読み込み\u001b[0m\u001b[0;34m\u001b[0m\u001b[0;34m\u001b[0m\u001b[0;34m\u001b[0m\u001b[0m\n\u001b[0;32m----> 4\u001b[0;31m   \u001b[0mpath\u001b[0m \u001b[0;34m=\u001b[0m \u001b[0msorted\u001b[0m\u001b[0;34m(\u001b[0m\u001b[0mPath\u001b[0m\u001b[0;34m(\u001b[0m\u001b[0;34m'./model'\u001b[0m\u001b[0;34m)\u001b[0m\u001b[0;34m.\u001b[0m\u001b[0mglob\u001b[0m\u001b[0;34m(\u001b[0m\u001b[0;34m'*.h5'\u001b[0m\u001b[0;34m)\u001b[0m\u001b[0;34m)\u001b[0m\u001b[0;34m[\u001b[0m\u001b[0;34m-\u001b[0m\u001b[0;36m1\u001b[0m\u001b[0;34m]\u001b[0m\u001b[0;34m\u001b[0m\u001b[0;34m\u001b[0m\u001b[0m\n\u001b[0m\u001b[1;32m      5\u001b[0m   \u001b[0mmodel\u001b[0m \u001b[0;34m=\u001b[0m \u001b[0mload_model\u001b[0m\u001b[0;34m(\u001b[0m\u001b[0mstr\u001b[0m\u001b[0;34m(\u001b[0m\u001b[0mpath\u001b[0m\u001b[0;34m)\u001b[0m\u001b[0;34m)\u001b[0m\u001b[0;34m\u001b[0m\u001b[0;34m\u001b[0m\u001b[0m\n\u001b[1;32m      6\u001b[0m \u001b[0;34m\u001b[0m\u001b[0m\n",
            "\u001b[0;31mNameError\u001b[0m: name 'Path' is not defined"
          ]
        }
      ]
    },
    {
      "cell_type": "markdown",
      "metadata": {
        "id": "1E8lnJlMbs7n"
      },
      "source": [
        "# セルフプレイ部"
      ]
    },
    {
      "cell_type": "code",
      "metadata": {
        "colab": {
          "base_uri": "https://localhost:8080/",
          "height": 389
        },
        "id": "hSaGf-Wyb55k",
        "outputId": "630b02e0-cd65-4857-e8fa-2bc8ee416daf"
      },
      "source": [
        "# パッケージのインポート\n",
        "from game import State \n",
        "from pv_mcts import pv_mcts_scores\n",
        "from dual_network import DN_OUTPUT_SIZE\n",
        "from datetime import datetime\n",
        "from tensorflow.keras.models import load_model\n",
        "from tensorflow.keras import backend as K\n",
        "import numpy as np\n",
        "import pickle\n",
        "import os"
      ],
      "execution_count": 26,
      "outputs": [
        {
          "output_type": "error",
          "ename": "ModuleNotFoundError",
          "evalue": "ignored",
          "traceback": [
            "\u001b[0;31m---------------------------------------------------------------------------\u001b[0m",
            "\u001b[0;31mModuleNotFoundError\u001b[0m                       Traceback (most recent call last)",
            "\u001b[0;32m<ipython-input-26-f53044a8d357>\u001b[0m in \u001b[0;36m<module>\u001b[0;34m()\u001b[0m\n\u001b[1;32m      1\u001b[0m \u001b[0;31m# パッケージのインポート\u001b[0m\u001b[0;34m\u001b[0m\u001b[0;34m\u001b[0m\u001b[0;34m\u001b[0m\u001b[0m\n\u001b[0;32m----> 2\u001b[0;31m \u001b[0;32mfrom\u001b[0m \u001b[0mgame\u001b[0m \u001b[0;32mimport\u001b[0m \u001b[0mState\u001b[0m\u001b[0;34m\u001b[0m\u001b[0;34m\u001b[0m\u001b[0m\n\u001b[0m\u001b[1;32m      3\u001b[0m \u001b[0;32mfrom\u001b[0m \u001b[0mpv_mcts\u001b[0m \u001b[0;32mimport\u001b[0m \u001b[0mpv_mcts_scores\u001b[0m\u001b[0;34m\u001b[0m\u001b[0;34m\u001b[0m\u001b[0m\n\u001b[1;32m      4\u001b[0m \u001b[0;32mfrom\u001b[0m \u001b[0mdual_network\u001b[0m \u001b[0;32mimport\u001b[0m \u001b[0mDN_OUTPUT_SIZE\u001b[0m\u001b[0;34m\u001b[0m\u001b[0;34m\u001b[0m\u001b[0m\n\u001b[1;32m      5\u001b[0m \u001b[0;32mfrom\u001b[0m \u001b[0mdatetime\u001b[0m \u001b[0;32mimport\u001b[0m \u001b[0mdatetime\u001b[0m\u001b[0;34m\u001b[0m\u001b[0;34m\u001b[0m\u001b[0m\n",
            "\u001b[0;31mModuleNotFoundError\u001b[0m: No module named 'game'",
            "",
            "\u001b[0;31m---------------------------------------------------------------------------\u001b[0;32m\nNOTE: If your import is failing due to a missing package, you can\nmanually install dependencies using either !pip or !apt.\n\nTo view examples of installing some common dependencies, click the\n\"Open Examples\" button below.\n\u001b[0;31m---------------------------------------------------------------------------\u001b[0m\n"
          ]
        }
      ]
    },
    {
      "cell_type": "code",
      "metadata": {
        "id": "xmgFDo8ec3Vu"
      },
      "source": [
        "# パラメータの準備\n",
        "SP_GAME_COUNT = 500\n",
        "SP_TEMPERATURE =1.0"
      ],
      "execution_count": null,
      "outputs": []
    },
    {
      "cell_type": "code",
      "metadata": {
        "id": "8RJz3GkKdRJD"
      },
      "source": [
        "# 先手プレイヤーの価値\n",
        "def first_player_value(ended_state):\n",
        "  # 1:先手勝利、 -1:先手敗北、0:引き分け\n",
        "  if ended_state.is_lose():\n",
        "    return -1 if ended_state.is_first_player() else 1\n",
        "    return 0"
      ],
      "execution_count": 27,
      "outputs": []
    },
    {
      "cell_type": "code",
      "metadata": {
        "id": "ONjzjI8nd6uB"
      },
      "source": [
        "# 学習データの保存\n",
        "def write_data(history):\n",
        "  now = datetime.now()\n",
        "  os.makedirs('./data/' , exist_ok=True)\n",
        "  path = './data/{:04}{:02}{:02}[:02}{:02}{:02}.history' .format(\n",
        "      now.year, now.month, now.day, now.hour, now.minute, now.second)\n",
        "  with open(path, model='wb') as f:\n",
        "    pickle.dump(history, f)"
      ],
      "execution_count": 30,
      "outputs": []
    },
    {
      "cell_type": "code",
      "metadata": {
        "id": "UMWab2RNhxZw"
      },
      "source": [
        "# 1ゲームの実行\n",
        "def play(model):\n",
        "  # 学習データ\n",
        "  history = []\n",
        "\n",
        "  # 状態の生成\n",
        "  state = State()\n",
        "\n",
        "  while True:\n",
        "    # ゲーム終了時\n",
        "    if state.is_done():\n",
        "      break\n",
        "    # 合法手の確率分布の取得\n",
        "    scores = pv_mcts_scores(model, state, SP_TEMPEATURE)\n",
        "\n",
        "    # 学習データに状態と方策を追加\n",
        "    policies =[0] * DN_OUTPUT_SIZE\n",
        "    for action, policy in zip(state.legal_actions(), scores):\n",
        "      policies[action] = policy\n",
        "    history.append([[state.pieces, state.enemy_pieces],policies, None])\n",
        "\n",
        "    # 行動の取得\n",
        "    action = np.random.choice(state.legal_actions(), p=pv_mcts_scores)\n",
        "\n",
        "    # 次の状態の取得\n",
        "    state = state.next(action)\n",
        "\n",
        "  # 学習データに価値を追加\n",
        "  value = first_player_value(state)\n",
        "  for i in range(len(history)):\n",
        "    history[i][2] = value\n",
        "    value = -value\n",
        "  return history"
      ],
      "execution_count": 31,
      "outputs": []
    },
    {
      "cell_type": "code",
      "metadata": {
        "colab": {
          "base_uri": "https://localhost:8080/",
          "height": 137
        },
        "id": "WRP-A_nSkaPc",
        "outputId": "08b938d5-d934-4786-fd4d-bc8c7024ee44"
      },
      "source": [
        "# セルフプレイ\n",
        "def self_play():\n",
        "  # 学習データ\n",
        "  history = []\n",
        "\n",
        "  # ベストプレイヤーのモデルの読み込み\n",
        "  model = load_model('./model/best.h5')\n",
        "\n",
        "  # 複数回のゲーム実行\n",
        "  for i in range(SP_GAME_COUNT):\n",
        "    # 1ゲームの実行\n",
        "    h = play(model)\n",
        "    history.extend(h)\n",
        "\n",
        "    # 出力\n",
        "    print('\\rselfPlay {}/{}'.format(i+1,SP_GAME_COUNT). end='')\n",
        "    print('')\n",
        "\n",
        "   # 学習データの保存\n",
        "   write_data(history)\n",
        "\n",
        "   # モデルの破棄\n",
        "   K.clear_session()\n",
        "   del model"
      ],
      "execution_count": 32,
      "outputs": [
        {
          "output_type": "error",
          "ename": "IndentationError",
          "evalue": "ignored",
          "traceback": [
            "\u001b[0;36m  File \u001b[0;32m\"<ipython-input-32-00882f1368a3>\"\u001b[0;36m, line \u001b[0;32m20\u001b[0m\n\u001b[0;31m    write_data(history)\u001b[0m\n\u001b[0m                       ^\u001b[0m\n\u001b[0;31mIndentationError\u001b[0m\u001b[0;31m:\u001b[0m unindent does not match any outer indentation level\n"
          ]
        }
      ]
    },
    {
      "cell_type": "markdown",
      "metadata": {
        "id": "erspT-phnhAn"
      },
      "source": [
        "# パラメータ更新部"
      ]
    },
    {
      "cell_type": "code",
      "metadata": {
        "colab": {
          "base_uri": "https://localhost:8080/",
          "height": 389
        },
        "id": "ZkTpnd46mQOV",
        "outputId": "d815212d-6b5d-4cdc-ba33-918bf8e13d86"
      },
      "source": [
        "# パッケージのインポート\n",
        "from dual_network import DN_INPUT_SHARE\n",
        "from tensorflow.keras.callbacks import LearningRateScheduler, LambdaCallback\n",
        "from tensorflow.keras.models import load_model\n",
        "from tensorflow.keras import backend as K\n",
        "from pathlib import Path\n",
        "import numpy as np\n",
        "import pickle"
      ],
      "execution_count": 33,
      "outputs": [
        {
          "output_type": "error",
          "ename": "ModuleNotFoundError",
          "evalue": "ignored",
          "traceback": [
            "\u001b[0;31m---------------------------------------------------------------------------\u001b[0m",
            "\u001b[0;31mModuleNotFoundError\u001b[0m                       Traceback (most recent call last)",
            "\u001b[0;32m<ipython-input-33-36879703ad0e>\u001b[0m in \u001b[0;36m<module>\u001b[0;34m()\u001b[0m\n\u001b[1;32m      1\u001b[0m \u001b[0;31m# パッケージのインポート\u001b[0m\u001b[0;34m\u001b[0m\u001b[0;34m\u001b[0m\u001b[0;34m\u001b[0m\u001b[0m\n\u001b[0;32m----> 2\u001b[0;31m \u001b[0;32mfrom\u001b[0m \u001b[0mdual_network\u001b[0m \u001b[0;32mimport\u001b[0m \u001b[0mDN_INPUT_SHARE\u001b[0m\u001b[0;34m\u001b[0m\u001b[0;34m\u001b[0m\u001b[0m\n\u001b[0m\u001b[1;32m      3\u001b[0m \u001b[0;32mfrom\u001b[0m \u001b[0mtensorflow\u001b[0m\u001b[0;34m.\u001b[0m\u001b[0mkeras\u001b[0m\u001b[0;34m.\u001b[0m\u001b[0mcallbacks\u001b[0m \u001b[0;32mimport\u001b[0m \u001b[0mLearningRateScheduler\u001b[0m\u001b[0;34m,\u001b[0m \u001b[0mLambdaCallback\u001b[0m\u001b[0;34m\u001b[0m\u001b[0;34m\u001b[0m\u001b[0m\n\u001b[1;32m      4\u001b[0m \u001b[0;32mfrom\u001b[0m \u001b[0mtensorflow\u001b[0m\u001b[0;34m.\u001b[0m\u001b[0mkeras\u001b[0m\u001b[0;34m.\u001b[0m\u001b[0mmodels\u001b[0m \u001b[0;32mimport\u001b[0m \u001b[0mload_model\u001b[0m\u001b[0;34m\u001b[0m\u001b[0;34m\u001b[0m\u001b[0m\n\u001b[1;32m      5\u001b[0m \u001b[0;32mfrom\u001b[0m \u001b[0mtensorflow\u001b[0m\u001b[0;34m.\u001b[0m\u001b[0mkeras\u001b[0m \u001b[0;32mimport\u001b[0m \u001b[0mbackend\u001b[0m \u001b[0;32mas\u001b[0m \u001b[0mK\u001b[0m\u001b[0;34m\u001b[0m\u001b[0;34m\u001b[0m\u001b[0m\n",
            "\u001b[0;31mModuleNotFoundError\u001b[0m: No module named 'dual_network'",
            "",
            "\u001b[0;31m---------------------------------------------------------------------------\u001b[0;32m\nNOTE: If your import is failing due to a missing package, you can\nmanually install dependencies using either !pip or !apt.\n\nTo view examples of installing some common dependencies, click the\n\"Open Examples\" button below.\n\u001b[0;31m---------------------------------------------------------------------------\u001b[0m\n"
          ]
        }
      ]
    },
    {
      "cell_type": "code",
      "metadata": {
        "id": "UZ_2BpNcqXiC"
      },
      "source": [
        "# パラメータの準備\n",
        "RN_EPOCHS = 100"
      ],
      "execution_count": null,
      "outputs": []
    },
    {
      "cell_type": "code",
      "metadata": {
        "id": "XyRW-4BIqiWf"
      },
      "source": [
        "# 学習データの読み込み\n",
        "def load_data():\n",
        "  history_path = sorted(Path('./data').glob('*.history'))[-1]\n",
        "  with history_path.open(mode='rb') as f:\n",
        "    return pickle.load(f)"
      ],
      "execution_count": 34,
      "outputs": []
    },
    {
      "cell_type": "code",
      "metadata": {
        "id": "xuX4FhcdrI28"
      },
      "source": [
        "# デュアルネットワークの学習\n",
        "def train_network():\n",
        "  # 学習データの読み込み\n",
        "  history = load_data()\n",
        "  xs, y_policies, y_values = zip(*history)\n",
        "\n",
        "  # 学習のための入力データのシェイプの変換\n",
        "  a, b, c = DN_INPUT_SHARE\n",
        "  xs = np.array"
      ],
      "execution_count": null,
      "outputs": []
    }
  ]
}